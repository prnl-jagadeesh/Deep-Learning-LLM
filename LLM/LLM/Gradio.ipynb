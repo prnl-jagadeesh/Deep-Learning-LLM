{
 "cells": [
  {
   "cell_type": "markdown",
   "id": "203a3f63-b4b7-4cdb-8eda-f4dbfe495c09",
   "metadata": {},
   "source": [
    "## Gradio Day!"
   ]
  },
  {
   "cell_type": "markdown",
   "id": "82bbf260-31f2-4c38-bec1-33b85258bc31",
   "metadata": {},
   "source": [
    "This Notebook is the combination of Gradio and LLM"
   ]
  },
  {
   "cell_type": "code",
   "execution_count": 7,
   "id": "297fac50-e660-4e29-8e99-0b09478b0e46",
   "metadata": {},
   "outputs": [],
   "source": [
    "# Import libraries\n",
    "import os\n",
    "from openai import OpenAI\n",
    "from dotenv import load_dotenv\n",
    "import anthropic"
   ]
  },
  {
   "cell_type": "code",
   "execution_count": 17,
   "id": "0b62fe2c-5edc-4758-a455-8a373f9f9904",
   "metadata": {},
   "outputs": [],
   "source": [
    "# Gradio Interface\n",
    "import gradio as gr"
   ]
  },
  {
   "cell_type": "code",
   "execution_count": 5,
   "id": "7788306c-df6b-4fb7-bfbb-6e33c40fa509",
   "metadata": {},
   "outputs": [
    {
     "name": "stdout",
     "output_type": "stream",
     "text": [
      "OPEN API KEY EXIST\n",
      "Anthropic key doesn't exist\n"
     ]
    }
   ],
   "source": [
    "# Load enviroment varaibles in a file called .env\n",
    "\n",
    "load_dotenv(override=True)\n",
    "openai_api_key = os.getenv('OPENAI_API_KEY')\n",
    "anthropic_api_key = os.getenv('ANTHROPIC_API_KEY')\n",
    "\n",
    "# Check if Open API Key exists\n",
    "if openai_api_key:\n",
    "    print(f\"OPEN API KEY EXIST\")\n",
    "else:\n",
    "    print(\"OPEN API KEY not set\")\n",
    "\n",
    "# Check if Anthopic Key Exist\n",
    "if anthropic_api_key:\n",
    "    print(f\"ANTHROPIC Key Exist\")\n",
    "else:\n",
    "    print(\"Anthropic key doesn't exist\")\n",
    "\n"
   ]
  },
  {
   "cell_type": "code",
   "execution_count": 8,
   "id": "85695a76-fc22-49f3-96ab-5bc93bee2e6e",
   "metadata": {},
   "outputs": [],
   "source": [
    "# Connect to Open AI, Anthropic\n",
    "\n",
    "openai = OpenAI()\n",
    "\n",
    "claude = anthropic.Anthropic()"
   ]
  },
  {
   "cell_type": "code",
   "execution_count": 9,
   "id": "0cbbbe85-17a7-4b48-9525-4100a655b275",
   "metadata": {},
   "outputs": [],
   "source": [
    "# Generate System Message\n",
    "\n",
    "system_message = \"You are a helpful assistant\""
   ]
  },
  {
   "cell_type": "code",
   "execution_count": 14,
   "id": "1b768a1b-773c-4f92-a35a-a9401245036f",
   "metadata": {},
   "outputs": [],
   "source": [
    "# Handle user prompt message\n",
    "def message_gpt(prompt):\n",
    "    messages = [\n",
    "        {\"role\": \"system\", \"content\": system_message},\n",
    "        {\"role\": \"user\", \"content\": prompt}\n",
    "    ]\n",
    "\n",
    "    completion = openai.chat.completions.create(\n",
    "        model = 'gpt-4o-mini',\n",
    "        messages=messages,\n",
    "    )\n",
    "\n",
    "    return  completion.choices[0].message.content"
   ]
  },
  {
   "cell_type": "code",
   "execution_count": 15,
   "id": "6cb8405e-f115-4940-8d43-0db6544d0a2f",
   "metadata": {},
   "outputs": [
    {
     "data": {
      "text/plain": [
       "\"Today's date is October 6, 2023.\""
      ]
     },
     "execution_count": 15,
     "metadata": {},
     "output_type": "execute_result"
    }
   ],
   "source": [
    "message_gpt(\"What is today's date\")"
   ]
  },
  {
   "cell_type": "markdown",
   "id": "bc06b6eb-cf95-4f00-b312-e8fa5f3c683a",
   "metadata": {},
   "source": [
    "## User Intrface"
   ]
  },
  {
   "cell_type": "code",
   "execution_count": 21,
   "id": "b17cf87b-8517-4b9d-98c1-1d8428b462c6",
   "metadata": {},
   "outputs": [
    {
     "name": "stdout",
     "output_type": "stream",
     "text": [
      "* Running on local URL:  http://127.0.0.1:7860\n",
      "\n",
      "To create a public link, set `share=True` in `launch()`.\n"
     ]
    },
    {
     "data": {
      "text/html": [
       "<div><iframe src=\"http://127.0.0.1:7860/\" width=\"100%\" height=\"500\" allow=\"autoplay; camera; microphone; clipboard-read; clipboard-write;\" frameborder=\"0\" allowfullscreen></iframe></div>"
      ],
      "text/plain": [
       "<IPython.core.display.HTML object>"
      ]
     },
     "metadata": {},
     "output_type": "display_data"
    },
    {
     "data": {
      "text/plain": []
     },
     "execution_count": 21,
     "metadata": {},
     "output_type": "execute_result"
    }
   ],
   "source": [
    "view = gr.Interface(\n",
    "    fn=message_gpt,\n",
    "    inputs=[gr.Textbox(label=\"Your Message:\", lines=6)],\n",
    "    outputs=[gr.Textbox(label=\"Respose:\", lines=8)],\n",
    "    flagging_mode=\"never\"\n",
    ")\n",
    "\n",
    "view.launch()"
   ]
  },
  {
   "cell_type": "code",
   "execution_count": null,
   "id": "cfe90893-4bf0-4396-b958-a92d5be5a139",
   "metadata": {},
   "outputs": [],
   "source": []
  }
 ],
 "metadata": {
  "kernelspec": {
   "display_name": "Python 3 (ipykernel)",
   "language": "python",
   "name": "python3"
  },
  "language_info": {
   "codemirror_mode": {
    "name": "ipython",
    "version": 3
   },
   "file_extension": ".py",
   "mimetype": "text/x-python",
   "name": "python",
   "nbconvert_exporter": "python",
   "pygments_lexer": "ipython3",
   "version": "3.11.11"
  }
 },
 "nbformat": 4,
 "nbformat_minor": 5
}
